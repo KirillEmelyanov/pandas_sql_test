{
 "cells": [
  {
   "cell_type": "code",
   "execution_count": 3,
   "metadata": {
    "collapsed": true
   },
   "outputs": [],
   "source": [
    "import os\n",
    "import sys\n",
    "import random\n",
    "import time\n",
    "import numpy as np\n",
    "import pandas as pd\n",
    "import seaborn as sns\n",
    "import matplotlib.pyplot as plt\n",
    "%matplotlib inline"
   ]
  },
  {
   "cell_type": "markdown",
   "metadata": {
    "collapsed": false
   },
   "source": [
    "Функции для генерации таблиц с разными полями, по которым будут далее считаться агрегаты groupby, count, sum, join и т.д."
   ]
  },
  {
   "cell_type": "code",
   "execution_count": 14,
   "metadata": {
    "collapsed": false
   },
   "outputs": [],
   "source": [
    "def make_random(mylist, sample_size):\n",
    "    randIndex = random.sample(range(len(mylist)), sample_size)\n",
    "    randIndex.sort()\n",
    "    rand = [mylist[i] for i in randIndex]\n",
    "    return rand"
   ]
  },
  {
   "cell_type": "code",
   "execution_count": 4,
   "metadata": {
    "collapsed": false
   },
   "outputs": [],
   "source": [
    "def make_table_type_I(N_1):\n",
    "\n",
    "    column_0 = range(N_1)\n",
    "\n",
    "    column_1_possible_values = [1, 2, 3, 4, 5]\n",
    "    column_1 = np.array([random.choice(column_1_possible_values) for i in range(N_1)])\n",
    "\n",
    "    column_2 = np.array( [random.uniform(-1, 1) for i in range(N_1)] )\n",
    "\n",
    "    column_3_possible_values = ['a', 'b', 'c', 'd', 'e', np.NaN]\n",
    "    column_3 = np.array([random.choice(column_3_possible_values) for i in range(N_1)])\n",
    "    \n",
    "    column_4 = np.arange(N_1)\n",
    "\n",
    "    df_1 = pd.DataFrame({\"INDEX\": column_0, \"COLUMN_1\": column_1, \"COLUMN_2\": column_2, \"COLUMN_3\": column_3,  \"COLUMN_4\": column_4})\n",
    "    \n",
    "    return df_1\n",
    "\n",
    "def make_table_type_II(N_2):\n",
    "    \n",
    "    column_0 = range(N_2)\n",
    "\n",
    "    column_1_possible_values = [-1, 3, 5, 9, 8]\n",
    "    column_1 = np.array([random.choice(column_1_possible_values) for i in range(N_2)])\n",
    "\n",
    "    column_2 = np.array( [random.uniform(0, 2) for i in range(N_2)] )\n",
    "\n",
    "    column_3_possible_values = ['f', 'g', 'c', 'd', np.NaN]\n",
    "    column_3 = np.array([random.choice(column_3_possible_values) for i in range(N_2)])\n",
    "    \n",
    "    column_4_possible_values = ['z', 'x', 'y']\n",
    "    column_4 = np.array([random.choice(column_4_possible_values) for i in range(N_2)])\n",
    "\n",
    "    df_2 = pd.DataFrame({\"INDEX\": column_0, \"COLUMN_1\": column_1, \"COLUMN_2\": column_2, \"COLUMN_3\": column_3})\n",
    "    \n",
    "    return df_2\n",
    "\n",
    "def make_table_type_III(N_3):\n",
    "    pass"
   ]
  },
  {
   "cell_type": "markdown",
   "metadata": {},
   "source": [
    "Создание таблиц типа I, содержащих 100 000, 1 000 000 и 10 000 000 записей"
   ]
  },
  {
   "cell_type": "code",
   "execution_count": 5,
   "metadata": {
    "collapsed": true
   },
   "outputs": [],
   "source": [
    "df_1_100th = make_table_type_I(100000)\n",
    "df_1_1m = make_table_type_I(1000000)\n",
    "df_1_10m = make_table_type_I(10000000)"
   ]
  },
  {
   "cell_type": "markdown",
   "metadata": {},
   "source": [
    "Создание таблиц типа II, содержащих 100 000, 1 000 000 и 10 000 000 записей"
   ]
  },
  {
   "cell_type": "code",
   "execution_count": 15,
   "metadata": {
    "collapsed": true
   },
   "outputs": [],
   "source": [
    "df_2_100th = make_table_type_I(100000)\n",
    "df_2_100th[\"COLUMN_5\"] = np.array(make_random(range(-100000, 100000), 100000))\n",
    "\n",
    "df_2_1m = make_table_type_I(1000000)\n",
    "df_2_1m[\"COLUMN_5\"] = np.array(make_random(range(-1000000, 1000000), 1000000))\n",
    "\n",
    "df_2_10m = make_table_type_I(10000000)\n",
    "df_2_10m[\"COLUMN_5\"] = np.array(make_random(range(-10000000, 10000000), 10000000))"
   ]
  },
  {
   "cell_type": "markdown",
   "metadata": {},
   "source": [
    "Вспомогательные функции для тестирования скорости работы методов sum(), unique() и groupby()"
   ]
  },
  {
   "cell_type": "code",
   "execution_count": 20,
   "metadata": {
    "collapsed": true
   },
   "outputs": [],
   "source": [
    "def time_interval_decorator(fn):\n",
    "    def time_interval_wrapped_fn(*args, **kwargs):\n",
    "        start_time = time.time()\n",
    "        fn_res = fn(*args, **kwargs)\n",
    "        stop_time = time.time()\n",
    "        return (fn_res, stop_time - start_time)\n",
    "    return time_interval_wrapped_fn\n",
    "\n",
    "@time_interval_decorator\n",
    "def sum_test(df):\n",
    "    return df[\"COLUMN_2\"].sum()\n",
    "\n",
    "@time_interval_decorator\n",
    "def distinct_values_count_test(df):\n",
    "    return len(df[\"COLUMN_1\"].unique())\n",
    "\n",
    "@time_interval_decorator\n",
    "def group_by_test(df):\n",
    "    return df.groupby(\"COLUMN_2\")\n"
   ]
  },
  {
   "cell_type": "markdown",
   "metadata": {},
   "source": [
    "Тестирование функций sum(), unique() и groupby() на таблице размера 100 000"
   ]
  },
  {
   "cell_type": "code",
   "execution_count": 23,
   "metadata": {
    "collapsed": false
   },
   "outputs": [
    {
     "name": "stdout",
     "output_type": "stream",
     "text": [
      "0.000159997940063\n",
      "0.00140000343323\n",
      "3.99971008301e-05\n"
     ]
    }
   ],
   "source": [
    "result_sum_100th_average = reduce(lambda acc, x: acc + sum_test(df_1_100th)[1], range(25)) / 25\n",
    "result_count_distinct_values_100th_average = reduce(lambda acc, x: acc + distinct_values_count_test(df_1_100th)[1], range(25)) / 25\n",
    "result_group_by_100th_average = reduce(lambda acc, x: acc + group_by_test(df_1_100th)[1], range(25)) / 25\n",
    "\n",
    "print(result_sum_100th_average)\n",
    "print(result_count_distinct_values_100th_average)\n",
    "print(result_group_by_100th_average)"
   ]
  },
  {
   "cell_type": "markdown",
   "metadata": {},
   "source": [
    "Тестирование функций sum(), unique() и groupby() на таблице размера 1 000 000"
   ]
  },
  {
   "cell_type": "code",
   "execution_count": 24,
   "metadata": {
    "collapsed": false
   },
   "outputs": [
    {
     "name": "stdout",
     "output_type": "stream",
     "text": [
      "0.00180000305176\n",
      "0.0111600017548\n",
      "7.99942016602e-05\n"
     ]
    }
   ],
   "source": [
    "result_sum_1m_average = reduce(lambda acc, x: acc + sum_test(df_1_1m)[1], range(25)) / 25\n",
    "result_count_distinct_values_1m_average = reduce(lambda acc, x: acc + distinct_values_count_test(df_1_1m)[1], range(25)) / 25\n",
    "result_group_by_1m_average = reduce(lambda acc, x: acc + group_by_test(df_1_1m)[1], range(25)) / 25\n",
    "\n",
    "print(result_sum_1m_average)\n",
    "print(result_count_distinct_values_1m_average)\n",
    "print(result_group_by_1m_average)"
   ]
  },
  {
   "cell_type": "markdown",
   "metadata": {},
   "source": [
    "Тестирование функций sum(), unique() и groupby() на таблице размера 10 000 000"
   ]
  },
  {
   "cell_type": "code",
   "execution_count": 22,
   "metadata": {
    "collapsed": false
   },
   "outputs": [
    {
     "name": "stdout",
     "output_type": "stream",
     "text": [
      "0.0115600013733\n",
      "0.111120004654\n",
      "0.00011999130249\n"
     ]
    }
   ],
   "source": [
    "result_sum_10m_average = reduce(lambda acc, x: acc + sum_test(df_1_10m)[1], range(25)) / 25\n",
    "result_count_distinct_values_10m_average = reduce(lambda acc, x: acc + distinct_values_count_test(df_1_10m)[1], range(25)) / 25\n",
    "result_group_by_10m_average = reduce(lambda acc, x: acc + group_by_test(df_1_10m)[1], range(25)) / 25\n",
    "\n",
    "print(result_sum_10m_average)\n",
    "print(result_count_distinct_values_10m_average)\n",
    "print(result_group_by_10m_average)"
   ]
  }
 ],
 "metadata": {
  "anaconda-cloud": {},
  "kernelspec": {
   "display_name": "Python [Root]",
   "language": "python",
   "name": "Python [Root]"
  },
  "language_info": {
   "codemirror_mode": {
    "name": "ipython",
    "version": 2
   },
   "file_extension": ".py",
   "mimetype": "text/x-python",
   "name": "python",
   "nbconvert_exporter": "python",
   "pygments_lexer": "ipython2",
   "version": "2.7.12"
  }
 },
 "nbformat": 4,
 "nbformat_minor": 0
}
